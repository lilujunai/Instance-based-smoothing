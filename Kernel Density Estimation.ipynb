{
 "cells": [
  {
   "cell_type": "markdown",
   "metadata": {},
   "source": [
    "## Kernel Density Estimation"
   ]
  },
  {
   "cell_type": "code",
   "execution_count": 20,
   "metadata": {},
   "outputs": [],
   "source": [
    "%matplotlib inline\n",
    "import math\n",
    "import random\n",
    "import numpy as np\n",
    "import pandas as pd\n",
    "from scipy import stats\n",
    "import matplotlib.pyplot as plt\n",
    "from sklearn.metrics import accuracy_score\n",
    "from sklearn.linear_model import LogisticRegression\n",
    "np.random.seed(24)"
   ]
  },
  {
   "cell_type": "markdown",
   "metadata": {},
   "source": [
    "#### Dataset Generation"
   ]
  },
  {
   "cell_type": "code",
   "execution_count": 186,
   "metadata": {},
   "outputs": [],
   "source": [
    "def generate_gaussian_samples(mu, sig, N):\n",
    "    return np.random.normal(mu, sig, N)\n",
    "\n",
    "mu0 = -2 #negative class instances distribution\n",
    "mu1 = 2 #positive class instances distribution\n",
    "sigma = 1 #standard deviation of both distributions"
   ]
  },
  {
   "cell_type": "markdown",
   "metadata": {},
   "source": [
    "##### Training Set"
   ]
  },
  {
   "cell_type": "code",
   "execution_count": 187,
   "metadata": {},
   "outputs": [],
   "source": [
    "N0 = int(20)\n",
    "N1 = int(20)\n",
    "S0 = generate_gaussian_samples(mu0, sigma, N0)\n",
    "S1 = generate_gaussian_samples(mu1, sigma, N1)"
   ]
  },
  {
   "cell_type": "markdown",
   "metadata": {},
   "source": [
    "##### Testing Set"
   ]
  },
  {
   "cell_type": "code",
   "execution_count": 188,
   "metadata": {},
   "outputs": [],
   "source": [
    "N0_test = int(2e3)\n",
    "N1_test = int(2e3)\n",
    "S0_test = generate_gaussian_samples(mu0, sigma, N0_test)\n",
    "S1_test = generate_gaussian_samples(mu1, sigma, N1_test)"
   ]
  },
  {
   "cell_type": "markdown",
   "metadata": {},
   "source": [
    "## Method 1: Replace True Labels with Probabilities from KDE + Fitting LR\n",
    "#### y = Score_Positive / (Score_positive + Score_negative)\n",
    "\n",
    "\n",
    "## Method 2: Generate more points from KDE + LR fitting\n",
    "#### Tryout Kernel Density Estimation for each class instances"
   ]
  },
  {
   "cell_type": "code",
   "execution_count": 189,
   "metadata": {},
   "outputs": [],
   "source": [
    "#Kernel Bandwidth = n**(-1./(d+4)), with n the number of data points and d the number of dimensions\n",
    "neg_kernel = stats.gaussian_kde(S0)\n",
    "pos_kernel = stats.gaussian_kde(S1)"
   ]
  },
  {
   "cell_type": "markdown",
   "metadata": {},
   "source": [
    "#### Method 1: Compute new true class probability based on kernel estimation."
   ]
  },
  {
   "cell_type": "code",
   "execution_count": 190,
   "metadata": {},
   "outputs": [],
   "source": [
    "P_S0 = pos_kernel.evaluate(S0) / (pos_kernel.evaluate(S0) + neg_kernel.evaluate(S0))\n",
    "P_S1 = pos_kernel.evaluate(S1) / (pos_kernel.evaluate(S1) + neg_kernel.evaluate(S1))"
   ]
  },
  {
   "cell_type": "markdown",
   "metadata": {},
   "source": [
    "#### Method 2: Generate new points to be used in fitting"
   ]
  },
  {
   "cell_type": "code",
   "execution_count": 191,
   "metadata": {},
   "outputs": [],
   "source": [
    "N0_2 = int(N0 * 2)\n",
    "N1_2 = int(N1 * 2)\n",
    "neg2 = neg_kernel.resample(N0_2)\n",
    "pos2 = pos_kernel.resample(N1_2)\n",
    "\n",
    "X_train2 = np.array(np.concatenate((neg2.T, pos2.T), axis=0) )\n",
    "y_train2 = np.asarray([0] * N0_2 + [1] * N1_2)"
   ]
  },
  {
   "cell_type": "markdown",
   "metadata": {},
   "source": [
    "### Dataset Definition"
   ]
  },
  {
   "cell_type": "code",
   "execution_count": 192,
   "metadata": {},
   "outputs": [],
   "source": [
    "X_train = np.array(np.concatenate((S0, S1), axis=0))\n",
    "X_train = X_train[:, np.newaxis]\n",
    "\n",
    "X_test = np.array(np.concatenate((S0_test, S1_test), axis=0))\n",
    "X_test = X_test[:, np.newaxis]\n",
    "\n",
    "y_train_prop = np.asarray(np.concatenate((P_S0, P_S1), axis=0))\n",
    "y_train = np.asarray([0] * N0 + [1] * N1)\n",
    "y_test = np.asarray([0] * N0_test + [1] * N1_test)"
   ]
  },
  {
   "cell_type": "markdown",
   "metadata": {},
   "source": [
    "### Logistic Regression Model"
   ]
  },
  {
   "cell_type": "code",
   "execution_count": 193,
   "metadata": {},
   "outputs": [],
   "source": [
    "class LR:\n",
    "    def __init__(self, learnRate = 0.001, nIter = 1000, use_intercept = False):\n",
    "        self.learnRate = learnRate\n",
    "        self.nIter = nIter\n",
    "        self.intercept = use_intercept\n",
    "        \n",
    "    def crossEntropy(self, P, Y):\n",
    "        return (-Y * np.log(P) - (1 - Y) * np.log(1 - P)).mean()\n",
    "    \n",
    "    def sigmoid(self, Z):\n",
    "        return 1 / (1 + np.exp(-Z))\n",
    "    \n",
    "    def SGD(self, X_train, y_train, X_test, y_test):\n",
    "        #Add Intercept\n",
    "        if self.intercept == True:\n",
    "            X_train = np.concatenate((np.ones((X_train.shape[0], 1)), X_train), axis=1)\n",
    "            X_test = np.concatenate((np.ones((X_test.shape[0], 1)), X_test), axis=1)\n",
    "        #Initialize Weights by zeros\n",
    "        self.Ws = np.zeros(X_train.shape[1])\n",
    "        self.TrainLoss = []\n",
    "        self.TestLoss = []\n",
    "        #Update weights for n Iterations\n",
    "        for i in range(self.nIter):\n",
    "            if i % 500 == 0:\n",
    "                print('Finished ', i, ' iterations')\n",
    "            #Shuffle indeces\n",
    "            p = np.random.permutation(len(X_train))\n",
    "            X_train = X_train[p]\n",
    "            y_train = y_train[p]\n",
    "            for row,y_t in zip(X_train, y_train):\n",
    "                Z = np.dot(row, self.Ws)\n",
    "                y_p = self.sigmoid(Z)\n",
    "                gradient = np.dot(row.T, (y_p - y_t))\n",
    "                self.Ws -= self.learnRate * gradient\n",
    "            \n",
    "            Z = np.dot(X_train, self.Ws)\n",
    "            y_pred = self.sigmoid(Z)\n",
    "            self.TrainLoss.append(self.crossEntropy(y_pred, y_train))\n",
    "            \n",
    "            ZTest = np.dot(X_test, self.Ws)\n",
    "            yTest_pred = self.sigmoid(ZTest)\n",
    "            self.TestLoss.append(self.crossEntropy(yTest_pred, y_test))\n",
    "    \n",
    "    def predict_prob(self, X):\n",
    "        #Add Intercept\n",
    "        if self.intercept == True:\n",
    "            intercept = np.ones((X.shape[0], 1))\n",
    "            X = np.concatenate((intercept, X), axis=1)\n",
    "        return self.sigmoid(np.dot(X, self.Ws))\n",
    "    \n",
    "    def predict(self, X, threshold = 0.5):\n",
    "        return self.predict_prob(X) >= threshold"
   ]
  },
  {
   "cell_type": "markdown",
   "metadata": {},
   "source": [
    "#### Method1: Fit LR model using modified / new true class probabilities"
   ]
  },
  {
   "cell_type": "code",
   "execution_count": 194,
   "metadata": {},
   "outputs": [
    {
     "name": "stdout",
     "output_type": "stream",
     "text": [
      "Finished  0  iterations\n",
      "Finished  500  iterations\n",
      "Finished  1000  iterations\n",
      "Finished  1500  iterations\n"
     ]
    }
   ],
   "source": [
    "iterations = 2000\n",
    "LRate = 0.001\n",
    "model1 = LR(learnRate = LRate, nIter = iterations, use_intercept = False)\n",
    "model1.SGD(X_train, y_train_prop, X_test, y_test)"
   ]
  },
  {
   "cell_type": "markdown",
   "metadata": {},
   "source": [
    "#### Original LR: Fit LR model using true class labels"
   ]
  },
  {
   "cell_type": "code",
   "execution_count": 195,
   "metadata": {},
   "outputs": [
    {
     "name": "stdout",
     "output_type": "stream",
     "text": [
      "Finished  0  iterations\n",
      "Finished  500  iterations\n",
      "Finished  1000  iterations\n",
      "Finished  1500  iterations\n"
     ]
    }
   ],
   "source": [
    "model = LR(learnRate = LRate, nIter = iterations, use_intercept = False)\n",
    "model.SGD(X_train, y_train, X_test, y_test)"
   ]
  },
  {
   "cell_type": "markdown",
   "metadata": {},
   "source": [
    "#### Sklearn LR:"
   ]
  },
  {
   "cell_type": "code",
   "execution_count": 196,
   "metadata": {},
   "outputs": [],
   "source": [
    "model_sklearn = LogisticRegression(random_state=0, solver='lbfgs').fit(X_train, y_train)"
   ]
  },
  {
   "cell_type": "markdown",
   "metadata": {},
   "source": [
    "#### Method2: Fit LR model using new generated instances"
   ]
  },
  {
   "cell_type": "code",
   "execution_count": 197,
   "metadata": {},
   "outputs": [
    {
     "name": "stdout",
     "output_type": "stream",
     "text": [
      "Finished  0  iterations\n",
      "Finished  500  iterations\n",
      "Finished  1000  iterations\n",
      "Finished  1500  iterations\n"
     ]
    }
   ],
   "source": [
    "model2 = LR(learnRate = LRate, nIter = iterations, use_intercept = False)\n",
    "model2.SGD(X_train2, y_train2, X_test, y_test)"
   ]
  },
  {
   "cell_type": "markdown",
   "metadata": {},
   "source": [
    "#### Plot CE Loss"
   ]
  },
  {
   "cell_type": "code",
   "execution_count": 198,
   "metadata": {},
   "outputs": [
    {
     "data": {
      "text/plain": [
       "Text(0.5, 1.0, 'CE Loss on Training/Testing Set using SGD')"
      ]
     },
     "execution_count": 198,
     "metadata": {},
     "output_type": "execute_result"
    },
    {
     "data": {
      "image/png": "[encoded data removed]",
      "text/plain": [
       "<Figure size 1440x720 with 1 Axes>"
      ]
     },
     "metadata": {
      "needs_background": "light"
     },
     "output_type": "display_data"
    }
   ],
   "source": [
    "import matplotlib.pyplot as plt\n",
    "%matplotlib inline  \n",
    "\n",
    "plt.figure(figsize=(20,10)) \n",
    "\n",
    "plt.plot(list(range(1,iterations + 1)), (model1.TrainLoss), 'r', label = 'Method-1 Train')\n",
    "plt.plot(list(range(1,iterations + 1)), (model2.TrainLoss), 'k', label = 'Method-2 Train')\n",
    "plt.plot(list(range(1,iterations + 1)), (model.TrainLoss), 'b', label = 'Original Train')\n",
    "\n",
    "plt.plot(list(range(1,iterations + 1)), (model1.TestLoss), 'r--', label = 'Method-1 Test')\n",
    "plt.plot(list(range(1,iterations + 1)), (model2.TestLoss), 'k--', label = 'Method-2 Test')\n",
    "plt.plot(list(range(1,iterations + 1)), (model.TestLoss), 'b--', label = 'Original Test')\n",
    "\n",
    "plt.legend(loc='upper left', fontsize = 16)\n",
    "plt.xlabel('Epoch Number', fontsize = 16)\n",
    "plt.ylabel('Cross Entropy (Loss)', fontsize = 16)\n",
    "plt.title('CE Loss on Training/Testing Set using SGD', fontsize = 16)"
   ]
  },
  {
   "cell_type": "markdown",
   "metadata": {},
   "source": [
    "### Predict on Test Set and Measure Accuracy & CE Loss"
   ]
  },
  {
   "cell_type": "code",
   "execution_count": 199,
   "metadata": {},
   "outputs": [
    {
     "name": "stdout",
     "output_type": "stream",
     "text": [
      "Original LR: Accuracy:  97.8 %, Test Cross Entropy:  0.06169953432533062\n",
      "Sklearn LR: Accuracy:  97.175 %, Test Cross Entropy:  0.09364041906374536\n",
      "Method 1 LR: Accuracy =  97.8 %, Test Cross Entropy:  0.06340508022295419\n",
      "Method 2 LR: Accuracy =  97.8 %, Test Cross Entropy:  0.06341352592338838\n"
     ]
    }
   ],
   "source": [
    "y_pred = model.predict_prob(X_test)\n",
    "CE_old = model.crossEntropy(y_pred, y_test)\n",
    "y_pred_new1 = model1.predict_prob(X_test)\n",
    "CE_new1 = model1.crossEntropy(y_pred_new1, y_test)\n",
    "y_pred_new2 = model2.predict_prob(X_test)\n",
    "CE_new2 = model2.crossEntropy(y_pred_new2, y_test)\n",
    "\n",
    "y_pred_sklearn = model_sklearn.predict_proba(X_test)\n",
    "CE_sklearn = model.crossEntropy(y_pred_sklearn[:,1], y_test)\n",
    "\n",
    "y_pred_labels = model.predict(X_test)\n",
    "y_pred_labels_new1 = model1.predict(X_test)\n",
    "y_pred_labels_new2 = model2.predict(X_test)\n",
    "y_pred_sklearn_labels = model_sklearn.predict(X_test)\n",
    "print('Original LR: Accuracy: ', accuracy_score(y_test, y_pred_labels)*100, '%, Test Cross Entropy: ', CE_old)\n",
    "print('Sklearn LR: Accuracy: ', accuracy_score(y_test, y_pred_sklearn_labels)*100, '%, Test Cross Entropy: ', CE_sklearn)\n",
    "print('Method 1 LR: Accuracy = ', accuracy_score(y_test, y_pred_labels_new1)*100, '%, Test Cross Entropy: ', CE_new1)\n",
    "print('Method 2 LR: Accuracy = ', accuracy_score(y_test, y_pred_labels_new2)*100, '%, Test Cross Entropy: ', CE_new2)"
   ]
  },
  {
   "cell_type": "code",
   "execution_count": 200,
   "metadata": {},
   "outputs": [
    {
     "name": "stdout",
     "output_type": "stream",
     "text": [
      "0 4000\n"
     ]
    }
   ],
   "source": [
    "wrong = 0\n",
    "true = 0\n",
    "for y1, y2, X, y in zip(y_pred_labels_new2, y_pred_labels, X_test, y_test):\n",
    "    if y1 != y2:\n",
    "        print(y1, y2, X, y)\n",
    "        wrong += 1\n",
    "    else:\n",
    "        true+=1\n",
    "        \n",
    "print(wrong, true)"
   ]
  },
  {
   "cell_type": "code",
   "execution_count": 201,
   "metadata": {},
   "outputs": [
    {
     "data": {
      "text/plain": [
       "array([0, 0, 0, ..., 1, 1, 1])"
      ]
     },
     "execution_count": 201,
     "metadata": {},
     "output_type": "execute_result"
    }
   ],
   "source": [
    "y_test"
   ]
  }
 ],
 "metadata": {
  "kernelspec": {
   "display_name": "Python 3",
   "language": "python",
   "name": "python3"
  },
  "language_info": {
   "codemirror_mode": {
    "name": "ipython",
    "version": 3
   },
   "file_extension": ".py",
   "mimetype": "text/x-python",
   "name": "python",
   "nbconvert_exporter": "python",
   "pygments_lexer": "ipython3",
   "version": "3.6.8"
  }
 },
 "nbformat": 4,
 "nbformat_minor": 2
}
