{
 "cells": [
  {
   "cell_type": "markdown",
   "metadata": {},
   "source": [
    "## Does unbiased model coefficients imply that cross entropy is minimum?"
   ]
  },
  {
   "cell_type": "code",
   "execution_count": 1,
   "metadata": {},
   "outputs": [],
   "source": [
    "%matplotlib inline\n",
    "import math\n",
    "import numpy as np\n",
    "np.random.seed(22)"
   ]
  },
  {
   "cell_type": "markdown",
   "metadata": {},
   "source": [
    "#### Experiment:\n",
    "Suppose we have 1 input feature of gaussian distribution for both positive, and negative classes. The parameters of these distributions are $\\mu_1 = 0.5$, $\\sigma = 1$, and $\\mu_0 = -0.5$, $\\sigma = 1$ for +ve and -ve classes respectively.\n",
    "\n",
    "The distributions are shown in the figure below:\n",
    "<img src = \"distributions.png\">"
   ]
  },
  {
   "cell_type": "code",
   "execution_count": 93,
   "metadata": {},
   "outputs": [],
   "source": [
    "def generate_samples(mu, sig, N):\n",
    "    return np.random.normal(mu, sig, N)\n",
    "\n",
    "mu0 = -0.5 #negative class instances distribution\n",
    "mu1 = 0.5 #positive class instances distribution\n",
    "sigma = 1 #standard deviation of both distributions"
   ]
  },
  {
   "cell_type": "markdown",
   "metadata": {},
   "source": [
    "#### Optimal model:\n",
    "Optimal model has $w = \\frac{\\mu_1 - \\mu_0}{\\sigma ^ 2} = 1$, $b = \\frac{{\\mu_1}^2 - {\\mu_0}^2}{2\\sigma ^ 2} = 0$\n",
    "\n",
    "#### Our fitted models:\n",
    "- Assume that we have two different models where the first one has coefficients $\\hat{w_1} = 1 - \\epsilon + \\eta$ and the second model has coefficients $\\hat{w_2} = 1 + \\epsilon + \\eta$ such that $\\mathbb{E}(\\hat{w}) = w $ at $\\eta = 0$\n",
    "- Let's define $\\epsilon = 0.5$. So, $\\hat{w_1} = 0.5$, $\\hat{b_1} = 0$, and $\\hat{w_2} = 1.5$, $\\hat{b_2} = 0$"
   ]
  },
  {
   "cell_type": "code",
   "execution_count": 94,
   "metadata": {},
   "outputs": [],
   "source": [
    "def generate_prediction(w, b, x):\n",
    "    e = float(np.exp(-1.0 * w * x + b) )\n",
    "    return 1.0/(1.0 + e )"
   ]
  },
  {
   "cell_type": "code",
   "execution_count": 95,
   "metadata": {},
   "outputs": [],
   "source": [
    "#optimal model\n",
    "w = (mu1 - mu0) / sigma\n",
    "b = (mu1*mu1 - mu0 * mu0) / (2 * sigma)\n",
    "#our fitted models\n",
    "epsilon = 0.5\n",
    "eta = 0\n",
    "w1 = w - epsilon + eta\n",
    "w2 = w + epsilon + eta\n",
    "b1 = b\n",
    "b2 = b"
   ]
  },
  {
   "cell_type": "markdown",
   "metadata": {},
   "source": [
    "#### Generate instances = (N0, N1) from the defined distributions where N0 = number of -ve class instances and N1 = number of +ve class instances"
   ]
  },
  {
   "cell_type": "code",
   "execution_count": 96,
   "metadata": {},
   "outputs": [],
   "source": [
    "N0 = 1e6; N1 = 1e6\n",
    "S0 = generate_samples(mu0, sigma, int(N0))\n",
    "S1 = generate_samples(mu1, sigma, int(N1))"
   ]
  },
  {
   "cell_type": "markdown",
   "metadata": {},
   "source": [
    "##### Calculate Average Cross Entropy over all instances from the optimal model:"
   ]
  },
  {
   "cell_type": "code",
   "execution_count": 97,
   "metadata": {},
   "outputs": [],
   "source": [
    "def compute_CE(S0, S2, w, b):\n",
    "    CE = 0\n",
    "    for i in S0:\n",
    "        p = generate_prediction(w, b, i)\n",
    "        #print(p)\n",
    "        CE += -np.log2(1-p)\n",
    "    for i in S1:\n",
    "        p = generate_prediction(w, b, i)\n",
    "        CE += -np.log2(p)\n",
    "    return CE / (len(S0) + len(S1))"
   ]
  },
  {
   "cell_type": "code",
   "execution_count": 98,
   "metadata": {},
   "outputs": [
    {
     "name": "stdout",
     "output_type": "stream",
     "text": [
      "Cross Entropy from the Original LR: 0.8396085290374675\n"
     ]
    }
   ],
   "source": [
    "optimal_CE = compute_CE(S0, S1, w, b)\n",
    "print('Cross Entropy from the Original LR:', optimal_CE) "
   ]
  },
  {
   "cell_type": "markdown",
   "metadata": {},
   "source": [
    "##### Calculate Expected Cross Entropy for the fitted models whose coefficients are different from optimal one:"
   ]
  },
  {
   "cell_type": "code",
   "execution_count": 99,
   "metadata": {},
   "outputs": [
    {
     "name": "stdout",
     "output_type": "stream",
     "text": [
      "Expected Cross Entropy from the fitted models: 0.8696880321329766\n"
     ]
    }
   ],
   "source": [
    "expected_CE = (compute_CE(S0, S1, w1, b1) + compute_CE(S0, S1, w2, b2))/ 2\n",
    "print('Expected Cross Entropy from the fitted models:', expected_CE)"
   ]
  },
  {
   "cell_type": "markdown",
   "metadata": {},
   "source": [
    "### Results Summary:\n",
    "##### Experiment 1 (biased coefficients):\n",
    "- N0 = N1 = 1e6\n",
    "- $\\epsilon = 0.9$, $\\eta = 0.5$\n",
    "- Expected Cross Entropy = 0.926, Original Cross Entropy = 0.8393\n",
    "\n",
    "##### Experiment 2 (unbiased coefficients):\n",
    "- N0 = N1 = 1e6\n",
    "- $\\epsilon = 0.9$, $\\eta = 0$\n",
    "- Expected Cross Entropy = 0.939, Original Cross Entropy = 0.8393\n",
    "\n",
    "##### Experiment 3 (unbiased coefficients):\n",
    "- N0 = N1 = 1e6\n",
    "- $\\epsilon = 0.1$, $\\eta = 0$\n",
    "- Expected Cross Entropy = 0.840, Original Cross Entropy = 0.8393\n",
    "\n",
    "##### Experiment 4 (unbiased coefficients):\n",
    "- N0 = N1 = 1e6\n",
    "- $\\epsilon = 0.5$, $\\eta = 0$\n",
    "- Expected Cross Entropy = 0.8692, Original Cross Entropy = 0.8393\n",
    "\n",
    "##### Experiment 5 (biased coefficients):\n",
    "- N0 = N1 = 1e6\n",
    "- $\\epsilon = 0.5$, $\\eta = 0.001$\n",
    "- Expected Cross Entropy = 0.8692, Original Cross Entropy = 0.8393\n",
    "\n",
    "##### Experiment 6 (biased coefficients):\n",
    "- N0 = N1 = 1e6\n",
    "- $\\epsilon = 0.5$, $\\eta = 0.01$\n",
    "- Expected Cross Entropy = 0.8689, Original Cross Entropy = 0.8393\n",
    "\n",
    "##### Experiment 7 (biased coefficients):\n",
    "- N0 = N1 = 1e6\n",
    "- $\\epsilon = 0.5$, $\\eta = 0.1$\n",
    "- Expected Cross Entropy = 0.8676, Original Cross Entropy = 0.8393\n",
    "\n",
    "##### Experiment 8 (biased coefficients):\n",
    "- N0 = N1 = 1e6\n",
    "- $\\epsilon = 0.5$, $\\eta = 0.2$\n",
    "- Expected Cross Entropy = 0.8684, Original Cross Entropy = 0.8393\n",
    "\n",
    "##### Experiment 8 (biased coefficients):\n",
    "- N0 = N1 = 1e6\n",
    "- $\\epsilon = 0.5$, $\\eta = 0.3$\n",
    "- Expected Cross Entropy = 0.8713, Original Cross Entropy = 0.8393\n",
    "\n",
    "##### Experiment 9 (biased coefficients):\n",
    "- N0 = N1 = 1e6\n",
    "- $\\epsilon = 0.5$, $\\eta = 0.4$\n",
    "- Expected Cross Entropy = 0.8762, Original Cross Entropy = 0.8393\n",
    "\n",
    "##### Experiment 10 (biased coefficients):\n",
    "- N0 = N1 = 1e6\n",
    "- $\\epsilon = 0.5$, $\\eta = 0.5$\n",
    "- Expected Cross Entropy = 0.8829, Original Cross Entropy = 0.8393"
   ]
  },
  {
   "cell_type": "code",
   "execution_count": 53,
   "metadata": {},
   "outputs": [
    {
     "data": {
      "image/png": "[encoded data removed]",
      "text/plain": [
       "<Figure size 432x288 with 1 Axes>"
      ]
     },
     "metadata": {
      "needs_background": "light"
     },
     "output_type": "display_data"
    }
   ],
   "source": [
    "import matplotlib.pyplot as plt\n",
    "xs = np.array([0, 0.001, 0.01, 0.1, 0.2, 0.3, 0.4, 0.5])\n",
    "ys = np.array([0.8692, 0.8692, 0.8689, 0.8676, 0.8684, 0.8713, 0.8762, 0.8829])\n",
    "plt.scatter(xs, np.log(ys))\n",
    "plt.plot([0, 0.5], [np.log(0.8692), np.log(0.8692)], color = 'r', label = 'Expected CE with Unbiased Coeff.')\n",
    "plt.ylabel('Expected Cross Entropy')\n",
    "plt.xlabel('Bias (Eta)')\n",
    "plt.legend()\n",
    "plt.show()\n"
   ]
  },
  {
   "cell_type": "markdown",
   "metadata": {},
   "source": [
    "#### <font color = \"red\"> <b> Conclusion: </b> </font>\n",
    "Unbiased Logistic Regression Model Coefficients doesn't imply minimum Cross Entropy."
   ]
  },
  {
   "cell_type": "markdown",
   "metadata": {},
   "source": [
    "## Analytical Proof:"
   ]
  },
  {
   "cell_type": "markdown",
   "metadata": {},
   "source": [
    "$\\mathbb{E}(CE(\\hat{P}(x), Y) ) = \\frac{1}{2N} \\left( \\sum_{i=1}^{N} -y_i log(\\frac{1}{1 + e^{-0.5x_i}}) -(1 - y_i) log(1 - \\frac{1}{1 + e^{-0.5x_i}}) -y_i log(\\frac{1}{1 + e^{-1.5x_i}}) -(1 - y_i) log(1 - \\frac{1}{1 + e^{-1.5x_i}}) \\right)$\n",
    "\n",
    "$ = \\frac{1}{2N} \\left( \\sum_{i=1}^{N} -y_i log(\\frac{1}{1 + e^{-0.5x_i} }) -(1 - y_i) log(\\frac{e^{-0.5x_i} }{1 + e^{-0.5x_i} }) -y_i log(\\frac{1}{1 + e^{-1.5x_i} }) -(1 - y_i) log(\\frac{e^{-1.5x_i} }{1 + e^{-1.5x_i} }) \\right)$\n",
    "\n",
    "$ = \\frac{1}{2N} \\left( \\sum_{i=1}^{N} -y_i log(\\frac{1}{1 + e^{-0.5x_i} }) - log(\\frac{e^{-0.5x_i} }{1 + e^{-0.5x_i} })  + y_i log(\\frac{e^{-0.5x_i} }{1 + e^{-0.5x_i} }) -y_i log(\\frac{1}{1 + e^{-1.5x_i} }) - log(\\frac{e^{-1.5x_i} }{1 + e^{-1.5x_i} }) + y_i log(\\frac{e^{-1.5x_i} }{1 + e^{-1.5x_i} }) \\right)$\n",
    "\n",
    "$ = \\frac{1}{2N} \\left( \\sum_{i=1}^{N} y_i log(\\frac{e^{-0.5x_i} }{1 + e^{-0.5x_i} } ({1 + e^{-0.5x_i}}) \\frac{e^{-1.5x_i}}{1 + e^{-1.5x_i} } ({1 + e^{-1.5x_i} }) ) - log(\\frac{e^{-0.5x_i} }{1 + e^{-0.5x_i} }) - log(\\frac{e^{-1.5x_i} }{1 + e^{-1.5x_i} }) \\right)$\n",
    "\n",
    "$ = \\frac{1}{2N} \\left( \\sum_{i=1}^{N} y_i log(e^{-2x_i}) - log(\\frac{e^{-2x_i} }{(1 + e^{-0.5x_i}) (1 + e^{-1.5x_i})}) \\right)$\n",
    "\n",
    "$ = \\frac{1}{N} \\left( \\sum_{i=1}^{N} y_i log(e^{-x_i}) - log(\\frac{e^{-x_i} }{\\sqrt{(1 + e^{-0.5x_i}) (1 + e^{-1.5x_i})}}) \\right)$"
   ]
  },
  {
   "cell_type": "markdown",
   "metadata": {},
   "source": [
    "$CE(P(x), Y) = \\frac{1}{N} \\left( \\sum_{i=1}^{N} -y_i log(\\frac{1}{1 + e^{-x_i}}) -(1 - y_i) log(1 - \\frac{1}{1 + e^{-x_i}})  \\right)$\n",
    "\n",
    "$ = \\frac{1}{N} \\left( \\sum_{i=1}^{N} -y_i log(\\frac{1}{1 + e^{-x_i}}) - log(\\frac{e^{-x_i}}{1 + e^{-x_i}}) + y_i log(\\frac{e^{-x_i}}{1 + e^{-x_i}})  \\right)$\n",
    "\n",
    "$ = \\frac{1}{N} \\left( \\sum_{i=1}^{N} y_i log(e^{-x_i}) - log(\\frac{e^{-x_i} }{1 + e^{-x_i} }) \\right)$"
   ]
  },
  {
   "cell_type": "markdown",
   "metadata": {},
   "source": [
    "$\\mathbb{E}(CE(\\hat{P}(x), Y) ) - CE(P(x), Y) = \\frac{1}{N} \\left( \\sum_{i=1}^{N} log(\\frac{e^{-x_i} }{1 + e^{-x_i} }) - log(\\frac{e^{-x_i} }{\\sqrt{(1 + e^{-0.5x_i}) (1 + e^{-1.5x_i})}}) \\right)$\n",
    "\n",
    "$ =  \\frac{1}{N} \\sum_{i=1}^{N} log(\\frac{\\sqrt{(1 + e^{-0.5x_i}) (1 + e^{-1.5x_i})}} {1 + e^{-x_i}}) $"
   ]
  },
  {
   "cell_type": "markdown",
   "metadata": {},
   "source": [
    "#### Plot the difference"
   ]
  },
  {
   "cell_type": "code",
   "execution_count": 60,
   "metadata": {},
   "outputs": [],
   "source": [
    "x = np.linspace(-1.0, 1.0, num=1000)\n",
    "y = []\n",
    "for i in x:\n",
    "    zz = np.sqrt((1.0 + float(np.exp(-0.5 * i)) ) * (1.0 + float(np.exp(-1.5 * i)) ))\n",
    "    y.append (zz - (1.0 + float(np.exp(-i)) ) )"
   ]
  },
  {
   "cell_type": "code",
   "execution_count": 62,
   "metadata": {},
   "outputs": [
    {
     "data": {
      "image/png": "[encoded data removed]",
      "text/plain": [
       "<Figure size 432x288 with 1 Axes>"
      ]
     },
     "metadata": {
      "needs_background": "light"
     },
     "output_type": "display_data"
    }
   ],
   "source": [
    "import matplotlib.pyplot as plt\n",
    "%matplotlib inline\n",
    "plt.plot(x, np.log(y))\n",
    "plt.title('Diff. betn. expectation of CE of fitted models and CE of optimal model')\n",
    "plt.xlabel('X - Input Feature Value')\n",
    "plt.ylabel('Logarithm of CE Difference')\n",
    "plt.savefig('difference.jpg')\n",
    "plt.show()"
   ]
  }
 ],
 "metadata": {
  "kernelspec": {
   "display_name": "Python 3",
   "language": "python",
   "name": "python3"
  },
  "language_info": {
   "codemirror_mode": {
    "name": "ipython",
    "version": 3
   },
   "file_extension": ".py",
   "mimetype": "text/x-python",
   "name": "python",
   "nbconvert_exporter": "python",
   "pygments_lexer": "ipython3",
   "version": "3.6.8"
  }
 },
 "nbformat": 4,
 "nbformat_minor": 2
}
